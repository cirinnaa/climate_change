{
 "cells": [
  {
   "cell_type": "code",
   "execution_count": 1,
   "metadata": {
    "execution": {
     "iopub.execute_input": "2020-10-18T14:43:51.558325Z",
     "iopub.status.busy": "2020-10-18T14:43:51.557480Z",
     "iopub.status.idle": "2020-10-18T14:44:05.287752Z",
     "shell.execute_reply": "2020-10-18T14:44:05.287010Z"
    },
    "papermill": {
     "duration": 13.765995,
     "end_time": "2020-10-18T14:44:05.287926",
     "exception": false,
     "start_time": "2020-10-18T14:43:51.521931",
     "status": "completed"
    },
    "tags": []
   },
   "outputs": [
    {
     "name": "stdout",
     "output_type": "stream",
     "text": [
      "Collecting pip\r\n",
      "  Downloading pip-20.2.4-py2.py3-none-any.whl (1.5 MB)\r\n",
      "\u001b[K     |████████████████████████████████| 1.5 MB 587 kB/s \r\n",
      "\u001b[?25hInstalling collected packages: pip\r\n",
      "  Attempting uninstall: pip\r\n",
      "    Found existing installation: pip 20.2.2\r\n",
      "    Uninstalling pip-20.2.2:\r\n",
      "      Successfully uninstalled pip-20.2.2\r\n",
      "Successfully installed pip-20.2.4\r\n"
     ]
    }
   ],
   "source": [
    "!pip install --upgrade pip"
   ]
  },
  {
   "cell_type": "markdown",
   "metadata": {
    "papermill": {
     "duration": 0.038429,
     "end_time": "2020-10-18T14:44:05.364490",
     "exception": false,
     "start_time": "2020-10-18T14:44:05.326061",
     "status": "completed"
    },
    "tags": []
   },
   "source": [
    "# Import Libraries"
   ]
  },
  {
   "cell_type": "code",
   "execution_count": 2,
   "metadata": {
    "execution": {
     "iopub.execute_input": "2020-10-18T14:44:05.458902Z",
     "iopub.status.busy": "2020-10-18T14:44:05.457984Z",
     "iopub.status.idle": "2020-10-18T14:44:08.582011Z",
     "shell.execute_reply": "2020-10-18T14:44:08.581064Z"
    },
    "papermill": {
     "duration": 3.180852,
     "end_time": "2020-10-18T14:44:08.582187",
     "exception": false,
     "start_time": "2020-10-18T14:44:05.401335",
     "status": "completed"
    },
    "tags": []
   },
   "outputs": [],
   "source": [
    "#import libraries\n",
    "import numpy as np\n",
    "import pandas as pd\n",
    "import matplotlib.pyplot as plt\n",
    "import seaborn as sns\n",
    "import re\n",
    "import string\n",
    "import nltk\n",
    "import os\n",
    "import string\n",
    "import xgboost\n",
    "import time\n",
    "import gc\n",
    "import warnings\n",
    "\n",
    "from sklearn import metrics\n",
    "from nltk import SnowballStemmer\n",
    "from nltk.corpus import stopwords\n",
    "from nltk.stem import WordNetLemmatizer\n",
    "from sklearn.feature_extraction.text import TfidfVectorizer, CountVectorizer\n",
    "from sklearn.model_selection import train_test_split\n",
    "from nltk.tokenize.treebank import TreebankWordDetokenizer\n",
    "from sklearn import preprocessing\n",
    "from sklearn import svm, tree\n",
    "from sklearn.svm import LinearSVC\n",
    "from sklearn.linear_model import LogisticRegression\n",
    "from sklearn.ensemble import GradientBoostingClassifier\n",
    "from sklearn.neighbors import KNeighborsClassifier \n",
    "from sklearn.naive_bayes import MultinomialNB\n",
    "from sklearn.ensemble import RandomForestClassifier\n",
    "from sklearn.pipeline import Pipeline\n",
    "from sklearn.svm import SVC\n",
    "from wordcloud import WordCloud\n",
    "from sklearn.metrics import classification_report, f1_score, precision_score, recall_score,roc_auc_score, accuracy_score, confusion_matrix\n",
    "from sklearn.model_selection import cross_val_score\n",
    "from sklearn.preprocessing import MaxAbsScaler, StandardScaler\n",
    "\n",
    "from imblearn.over_sampling import SMOTE"
   ]
  },
  {
   "cell_type": "markdown",
   "metadata": {
    "papermill": {
     "duration": 0.036679,
     "end_time": "2020-10-18T14:44:08.656014",
     "exception": false,
     "start_time": "2020-10-18T14:44:08.619335",
     "status": "completed"
    },
    "tags": []
   },
   "source": [
    "# Import datasets"
   ]
  },
  {
   "cell_type": "code",
   "execution_count": 3,
   "metadata": {
    "_cell_guid": "79c7e3d0-c299-4dcb-8224-4455121ee9b0",
    "_uuid": "d629ff2d2480ee46fbb7e2d37f6b5fab8052498a",
    "execution": {
     "iopub.execute_input": "2020-10-18T14:44:08.737026Z",
     "iopub.status.busy": "2020-10-18T14:44:08.736263Z",
     "iopub.status.idle": "2020-10-18T14:44:08.755450Z",
     "shell.execute_reply": "2020-10-18T14:44:08.754233Z"
    },
    "papermill": {
     "duration": 0.062454,
     "end_time": "2020-10-18T14:44:08.755669",
     "exception": false,
     "start_time": "2020-10-18T14:44:08.693215",
     "status": "completed"
    },
    "tags": []
   },
   "outputs": [
    {
     "name": "stdout",
     "output_type": "stream",
     "text": [
      "/kaggle/input/climate-change-edsa2020-21/train.csv\n",
      "/kaggle/input/climate-change-edsa2020-21/test.csv\n",
      "/kaggle/input/climate-change-edsa2020-21/sample_submission.csv\n"
     ]
    }
   ],
   "source": [
    "import os\n",
    "for dirname, _, filenames in os.walk('/kaggle/input'):\n",
    "    for filename in filenames:\n",
    "        print(os.path.join(dirname, filename))"
   ]
  },
  {
   "cell_type": "code",
   "execution_count": 4,
   "metadata": {
    "execution": {
     "iopub.execute_input": "2020-10-18T14:44:08.839872Z",
     "iopub.status.busy": "2020-10-18T14:44:08.839008Z",
     "iopub.status.idle": "2020-10-18T14:44:08.948333Z",
     "shell.execute_reply": "2020-10-18T14:44:08.947599Z"
    },
    "papermill": {
     "duration": 0.153829,
     "end_time": "2020-10-18T14:44:08.948496",
     "exception": false,
     "start_time": "2020-10-18T14:44:08.794667",
     "status": "completed"
    },
    "tags": []
   },
   "outputs": [],
   "source": [
    "train  = pd.read_csv(\"/kaggle/input/climate-change-edsa2020-21/train.csv\")"
   ]
  },
  {
   "cell_type": "code",
   "execution_count": 5,
   "metadata": {
    "execution": {
     "iopub.execute_input": "2020-10-18T14:44:09.040671Z",
     "iopub.status.busy": "2020-10-18T14:44:09.039827Z",
     "iopub.status.idle": "2020-10-18T14:44:09.050201Z",
     "shell.execute_reply": "2020-10-18T14:44:09.050859Z"
    },
    "papermill": {
     "duration": 0.063308,
     "end_time": "2020-10-18T14:44:09.051048",
     "exception": false,
     "start_time": "2020-10-18T14:44:08.987740",
     "status": "completed"
    },
    "tags": []
   },
   "outputs": [
    {
     "data": {
      "text/html": [
       "<div>\n",
       "<style scoped>\n",
       "    .dataframe tbody tr th:only-of-type {\n",
       "        vertical-align: middle;\n",
       "    }\n",
       "\n",
       "    .dataframe tbody tr th {\n",
       "        vertical-align: top;\n",
       "    }\n",
       "\n",
       "    .dataframe thead th {\n",
       "        text-align: right;\n",
       "    }\n",
       "</style>\n",
       "<table border=\"1\" class=\"dataframe\">\n",
       "  <thead>\n",
       "    <tr style=\"text-align: right;\">\n",
       "      <th></th>\n",
       "      <th>sentiment</th>\n",
       "      <th>message</th>\n",
       "      <th>tweetid</th>\n",
       "    </tr>\n",
       "  </thead>\n",
       "  <tbody>\n",
       "    <tr>\n",
       "      <th>0</th>\n",
       "      <td>1</td>\n",
       "      <td>PolySciMajor EPA chief doesn't think carbon di...</td>\n",
       "      <td>625221</td>\n",
       "    </tr>\n",
       "    <tr>\n",
       "      <th>1</th>\n",
       "      <td>1</td>\n",
       "      <td>It's not like we lack evidence of anthropogeni...</td>\n",
       "      <td>126103</td>\n",
       "    </tr>\n",
       "    <tr>\n",
       "      <th>2</th>\n",
       "      <td>2</td>\n",
       "      <td>RT @RawStory: Researchers say we have three ye...</td>\n",
       "      <td>698562</td>\n",
       "    </tr>\n",
       "    <tr>\n",
       "      <th>3</th>\n",
       "      <td>1</td>\n",
       "      <td>#TodayinMaker# WIRED : 2016 was a pivotal year...</td>\n",
       "      <td>573736</td>\n",
       "    </tr>\n",
       "    <tr>\n",
       "      <th>4</th>\n",
       "      <td>1</td>\n",
       "      <td>RT @SoyNovioDeTodas: It's 2016, and a racist, ...</td>\n",
       "      <td>466954</td>\n",
       "    </tr>\n",
       "  </tbody>\n",
       "</table>\n",
       "</div>"
      ],
      "text/plain": [
       "   sentiment                                            message  tweetid\n",
       "0          1  PolySciMajor EPA chief doesn't think carbon di...   625221\n",
       "1          1  It's not like we lack evidence of anthropogeni...   126103\n",
       "2          2  RT @RawStory: Researchers say we have three ye...   698562\n",
       "3          1  #TodayinMaker# WIRED : 2016 was a pivotal year...   573736\n",
       "4          1  RT @SoyNovioDeTodas: It's 2016, and a racist, ...   466954"
      ]
     },
     "execution_count": 5,
     "metadata": {},
     "output_type": "execute_result"
    }
   ],
   "source": [
    "train.head()"
   ]
  },
  {
   "cell_type": "code",
   "execution_count": 6,
   "metadata": {
    "execution": {
     "iopub.execute_input": "2020-10-18T14:44:09.136437Z",
     "iopub.status.busy": "2020-10-18T14:44:09.135436Z",
     "iopub.status.idle": "2020-10-18T14:44:09.200773Z",
     "shell.execute_reply": "2020-10-18T14:44:09.199976Z"
    },
    "papermill": {
     "duration": 0.110586,
     "end_time": "2020-10-18T14:44:09.200957",
     "exception": false,
     "start_time": "2020-10-18T14:44:09.090371",
     "status": "completed"
    },
    "tags": []
   },
   "outputs": [],
   "source": [
    "test  = pd.read_csv(\"/kaggle/input/climate-change-edsa2020-21/test.csv\")"
   ]
  },
  {
   "cell_type": "code",
   "execution_count": 7,
   "metadata": {
    "execution": {
     "iopub.execute_input": "2020-10-18T14:44:09.292499Z",
     "iopub.status.busy": "2020-10-18T14:44:09.291493Z",
     "iopub.status.idle": "2020-10-18T14:44:09.296266Z",
     "shell.execute_reply": "2020-10-18T14:44:09.296882Z"
    },
    "papermill": {
     "duration": 0.0565,
     "end_time": "2020-10-18T14:44:09.297071",
     "exception": false,
     "start_time": "2020-10-18T14:44:09.240571",
     "status": "completed"
    },
    "tags": []
   },
   "outputs": [
    {
     "data": {
      "text/html": [
       "<div>\n",
       "<style scoped>\n",
       "    .dataframe tbody tr th:only-of-type {\n",
       "        vertical-align: middle;\n",
       "    }\n",
       "\n",
       "    .dataframe tbody tr th {\n",
       "        vertical-align: top;\n",
       "    }\n",
       "\n",
       "    .dataframe thead th {\n",
       "        text-align: right;\n",
       "    }\n",
       "</style>\n",
       "<table border=\"1\" class=\"dataframe\">\n",
       "  <thead>\n",
       "    <tr style=\"text-align: right;\">\n",
       "      <th></th>\n",
       "      <th>message</th>\n",
       "      <th>tweetid</th>\n",
       "    </tr>\n",
       "  </thead>\n",
       "  <tbody>\n",
       "    <tr>\n",
       "      <th>0</th>\n",
       "      <td>Europe will now be looking to China to make su...</td>\n",
       "      <td>169760</td>\n",
       "    </tr>\n",
       "    <tr>\n",
       "      <th>1</th>\n",
       "      <td>Combine this with the polling of staffers re c...</td>\n",
       "      <td>35326</td>\n",
       "    </tr>\n",
       "    <tr>\n",
       "      <th>2</th>\n",
       "      <td>The scary, unimpeachable evidence that climate...</td>\n",
       "      <td>224985</td>\n",
       "    </tr>\n",
       "    <tr>\n",
       "      <th>3</th>\n",
       "      <td>@Karoli @morgfair @OsborneInk @dailykos \\nPuti...</td>\n",
       "      <td>476263</td>\n",
       "    </tr>\n",
       "    <tr>\n",
       "      <th>4</th>\n",
       "      <td>RT @FakeWillMoore: 'Female orgasms cause globa...</td>\n",
       "      <td>872928</td>\n",
       "    </tr>\n",
       "  </tbody>\n",
       "</table>\n",
       "</div>"
      ],
      "text/plain": [
       "                                             message  tweetid\n",
       "0  Europe will now be looking to China to make su...   169760\n",
       "1  Combine this with the polling of staffers re c...    35326\n",
       "2  The scary, unimpeachable evidence that climate...   224985\n",
       "3  @Karoli @morgfair @OsborneInk @dailykos \\nPuti...   476263\n",
       "4  RT @FakeWillMoore: 'Female orgasms cause globa...   872928"
      ]
     },
     "execution_count": 7,
     "metadata": {},
     "output_type": "execute_result"
    }
   ],
   "source": [
    "test.head()"
   ]
  },
  {
   "cell_type": "code",
   "execution_count": 8,
   "metadata": {
    "execution": {
     "iopub.execute_input": "2020-10-18T14:44:09.393207Z",
     "iopub.status.busy": "2020-10-18T14:44:09.392227Z",
     "iopub.status.idle": "2020-10-18T14:44:09.412246Z",
     "shell.execute_reply": "2020-10-18T14:44:09.411515Z"
    },
    "papermill": {
     "duration": 0.074556,
     "end_time": "2020-10-18T14:44:09.412406",
     "exception": false,
     "start_time": "2020-10-18T14:44:09.337850",
     "status": "completed"
    },
    "tags": []
   },
   "outputs": [
    {
     "data": {
      "text/html": [
       "<div>\n",
       "<style scoped>\n",
       "    .dataframe tbody tr th:only-of-type {\n",
       "        vertical-align: middle;\n",
       "    }\n",
       "\n",
       "    .dataframe tbody tr th {\n",
       "        vertical-align: top;\n",
       "    }\n",
       "\n",
       "    .dataframe thead th {\n",
       "        text-align: right;\n",
       "    }\n",
       "</style>\n",
       "<table border=\"1\" class=\"dataframe\">\n",
       "  <thead>\n",
       "    <tr style=\"text-align: right;\">\n",
       "      <th></th>\n",
       "      <th>sentiment</th>\n",
       "      <th>tweetid</th>\n",
       "    </tr>\n",
       "  </thead>\n",
       "  <tbody>\n",
       "    <tr>\n",
       "      <th>count</th>\n",
       "      <td>15819.000000</td>\n",
       "      <td>15819.000000</td>\n",
       "    </tr>\n",
       "    <tr>\n",
       "      <th>mean</th>\n",
       "      <td>0.917504</td>\n",
       "      <td>501719.433656</td>\n",
       "    </tr>\n",
       "    <tr>\n",
       "      <th>std</th>\n",
       "      <td>0.836537</td>\n",
       "      <td>289045.983132</td>\n",
       "    </tr>\n",
       "    <tr>\n",
       "      <th>min</th>\n",
       "      <td>-1.000000</td>\n",
       "      <td>6.000000</td>\n",
       "    </tr>\n",
       "    <tr>\n",
       "      <th>25%</th>\n",
       "      <td>1.000000</td>\n",
       "      <td>253207.500000</td>\n",
       "    </tr>\n",
       "    <tr>\n",
       "      <th>50%</th>\n",
       "      <td>1.000000</td>\n",
       "      <td>502291.000000</td>\n",
       "    </tr>\n",
       "    <tr>\n",
       "      <th>75%</th>\n",
       "      <td>1.000000</td>\n",
       "      <td>753769.000000</td>\n",
       "    </tr>\n",
       "    <tr>\n",
       "      <th>max</th>\n",
       "      <td>2.000000</td>\n",
       "      <td>999888.000000</td>\n",
       "    </tr>\n",
       "  </tbody>\n",
       "</table>\n",
       "</div>"
      ],
      "text/plain": [
       "          sentiment        tweetid\n",
       "count  15819.000000   15819.000000\n",
       "mean       0.917504  501719.433656\n",
       "std        0.836537  289045.983132\n",
       "min       -1.000000       6.000000\n",
       "25%        1.000000  253207.500000\n",
       "50%        1.000000  502291.000000\n",
       "75%        1.000000  753769.000000\n",
       "max        2.000000  999888.000000"
      ]
     },
     "execution_count": 8,
     "metadata": {},
     "output_type": "execute_result"
    }
   ],
   "source": [
    "train.describe()"
   ]
  },
  {
   "cell_type": "markdown",
   "metadata": {
    "papermill": {
     "duration": 0.040061,
     "end_time": "2020-10-18T14:44:09.493381",
     "exception": false,
     "start_time": "2020-10-18T14:44:09.453320",
     "status": "completed"
    },
    "tags": []
   },
   "source": [
    "# Check for missing data"
   ]
  },
  {
   "cell_type": "code",
   "execution_count": 9,
   "metadata": {
    "execution": {
     "iopub.execute_input": "2020-10-18T14:44:09.584716Z",
     "iopub.status.busy": "2020-10-18T14:44:09.583492Z",
     "iopub.status.idle": "2020-10-18T14:44:09.594097Z",
     "shell.execute_reply": "2020-10-18T14:44:09.594671Z"
    },
    "papermill": {
     "duration": 0.061047,
     "end_time": "2020-10-18T14:44:09.594869",
     "exception": false,
     "start_time": "2020-10-18T14:44:09.533822",
     "status": "completed"
    },
    "tags": []
   },
   "outputs": [
    {
     "name": "stdout",
     "output_type": "stream",
     "text": [
      "Missing values in train dataset:\n",
      "sentiment    0\n",
      "message      0\n",
      "tweetid      0\n",
      "dtype: int64\n",
      "\n",
      "Missing values in test dataset:\n",
      "message    0\n",
      "tweetid    0\n",
      "dtype: int64\n"
     ]
    }
   ],
   "source": [
    "print(f'Missing values in train dataset:\\n{train.isna().sum()}\\n')\n",
    "print(f'Missing values in test dataset:\\n{test.isna().sum()}')"
   ]
  },
  {
   "cell_type": "markdown",
   "metadata": {
    "papermill": {
     "duration": 0.040676,
     "end_time": "2020-10-18T14:44:09.676835",
     "exception": false,
     "start_time": "2020-10-18T14:44:09.636159",
     "status": "completed"
    },
    "tags": []
   },
   "source": [
    "# Label Analysis - Sentiment"
   ]
  },
  {
   "cell_type": "raw",
   "metadata": {
    "papermill": {
     "duration": 0.041132,
     "end_time": "2020-10-18T14:44:09.759091",
     "exception": false,
     "start_time": "2020-10-18T14:44:09.717959",
     "status": "completed"
    },
    "tags": []
   },
   "source": [
    "Class         Description\n",
    "    2         News: the tweet links to factual news about climate change\n",
    "    1         Pro: the tweet supports the belief of man-made climate change\n",
    "    0         Neutral: the tweet neither supports nor refutes the belief of man-made climate change\n",
    "   -1         Anti: the tweet does not believe in man-made climate change\n"
   ]
  },
  {
   "cell_type": "code",
   "execution_count": 10,
   "metadata": {
    "execution": {
     "iopub.execute_input": "2020-10-18T14:44:09.850763Z",
     "iopub.status.busy": "2020-10-18T14:44:09.849818Z",
     "iopub.status.idle": "2020-10-18T14:44:09.854943Z",
     "shell.execute_reply": "2020-10-18T14:44:09.854156Z"
    },
    "papermill": {
     "duration": 0.054583,
     "end_time": "2020-10-18T14:44:09.855078",
     "exception": false,
     "start_time": "2020-10-18T14:44:09.800495",
     "status": "completed"
    },
    "tags": []
   },
   "outputs": [
    {
     "data": {
      "text/plain": [
       " 1    8530\n",
       " 2    3640\n",
       " 0    2353\n",
       "-1    1296\n",
       "Name: sentiment, dtype: int64"
      ]
     },
     "execution_count": 10,
     "metadata": {},
     "output_type": "execute_result"
    }
   ],
   "source": [
    "train.sentiment.value_counts()"
   ]
  },
  {
   "cell_type": "markdown",
   "metadata": {
    "papermill": {
     "duration": 0.041295,
     "end_time": "2020-10-18T14:44:09.938182",
     "exception": false,
     "start_time": "2020-10-18T14:44:09.896887",
     "status": "completed"
    },
    "tags": []
   },
   "source": [
    "As we can see from above, data is very unbalanced"
   ]
  },
  {
   "cell_type": "code",
   "execution_count": 11,
   "metadata": {
    "execution": {
     "iopub.execute_input": "2020-10-18T14:44:10.035862Z",
     "iopub.status.busy": "2020-10-18T14:44:10.034514Z",
     "iopub.status.idle": "2020-10-18T14:44:10.040564Z",
     "shell.execute_reply": "2020-10-18T14:44:10.039713Z"
    },
    "papermill": {
     "duration": 0.059402,
     "end_time": "2020-10-18T14:44:10.040741",
     "exception": false,
     "start_time": "2020-10-18T14:44:09.981339",
     "status": "completed"
    },
    "tags": []
   },
   "outputs": [
    {
     "data": {
      "text/html": [
       "<div>\n",
       "<style scoped>\n",
       "    .dataframe tbody tr th:only-of-type {\n",
       "        vertical-align: middle;\n",
       "    }\n",
       "\n",
       "    .dataframe tbody tr th {\n",
       "        vertical-align: top;\n",
       "    }\n",
       "\n",
       "    .dataframe thead th {\n",
       "        text-align: right;\n",
       "    }\n",
       "</style>\n",
       "<table border=\"1\" class=\"dataframe\">\n",
       "  <thead>\n",
       "    <tr style=\"text-align: right;\">\n",
       "      <th></th>\n",
       "      <th>sentiment</th>\n",
       "      <th>message</th>\n",
       "      <th>tweetid</th>\n",
       "    </tr>\n",
       "  </thead>\n",
       "  <tbody>\n",
       "    <tr>\n",
       "      <th>0</th>\n",
       "      <td>1</td>\n",
       "      <td>PolySciMajor EPA chief doesn't think carbon di...</td>\n",
       "      <td>625221</td>\n",
       "    </tr>\n",
       "    <tr>\n",
       "      <th>1</th>\n",
       "      <td>1</td>\n",
       "      <td>It's not like we lack evidence of anthropogeni...</td>\n",
       "      <td>126103</td>\n",
       "    </tr>\n",
       "    <tr>\n",
       "      <th>2</th>\n",
       "      <td>2</td>\n",
       "      <td>RT @RawStory: Researchers say we have three ye...</td>\n",
       "      <td>698562</td>\n",
       "    </tr>\n",
       "    <tr>\n",
       "      <th>3</th>\n",
       "      <td>1</td>\n",
       "      <td>#TodayinMaker# WIRED : 2016 was a pivotal year...</td>\n",
       "      <td>573736</td>\n",
       "    </tr>\n",
       "    <tr>\n",
       "      <th>4</th>\n",
       "      <td>1</td>\n",
       "      <td>RT @SoyNovioDeTodas: It's 2016, and a racist, ...</td>\n",
       "      <td>466954</td>\n",
       "    </tr>\n",
       "  </tbody>\n",
       "</table>\n",
       "</div>"
      ],
      "text/plain": [
       "   sentiment                                            message  tweetid\n",
       "0          1  PolySciMajor EPA chief doesn't think carbon di...   625221\n",
       "1          1  It's not like we lack evidence of anthropogeni...   126103\n",
       "2          2  RT @RawStory: Researchers say we have three ye...   698562\n",
       "3          1  #TodayinMaker# WIRED : 2016 was a pivotal year...   573736\n",
       "4          1  RT @SoyNovioDeTodas: It's 2016, and a racist, ...   466954"
      ]
     },
     "execution_count": 11,
     "metadata": {},
     "output_type": "execute_result"
    }
   ],
   "source": [
    "train.head()"
   ]
  },
  {
   "cell_type": "markdown",
   "metadata": {
    "papermill": {
     "duration": 0.04296,
     "end_time": "2020-10-18T14:44:10.126980",
     "exception": false,
     "start_time": "2020-10-18T14:44:10.084020",
     "status": "completed"
    },
    "tags": []
   },
   "source": [
    "# Cleaning Data"
   ]
  },
  {
   "cell_type": "code",
   "execution_count": 12,
   "metadata": {
    "execution": {
     "iopub.execute_input": "2020-10-18T14:44:10.226766Z",
     "iopub.status.busy": "2020-10-18T14:44:10.225609Z",
     "iopub.status.idle": "2020-10-18T14:44:10.229259Z",
     "shell.execute_reply": "2020-10-18T14:44:10.228482Z"
    },
    "papermill": {
     "duration": 0.059141,
     "end_time": "2020-10-18T14:44:10.229392",
     "exception": false,
     "start_time": "2020-10-18T14:44:10.170251",
     "status": "completed"
    },
    "tags": []
   },
   "outputs": [],
   "source": [
    "def clean(message):\n",
    "    \n",
    "    message = message.lower()\n",
    "    \n",
    "    url = r'http[s]?://(?:[A-Za-z]|[0-9]|[$-_@.&+]|[!*\\(\\),]|(?:%[0-9A-Fa-f][0-9A-Fa-f]))+'\n",
    "    web = 'url-web'\n",
    "    message = re.sub(url, web, message)\n",
    "\n",
    "    message = re.sub(r'[-]',' ',message)\n",
    "    message = re.sub(r'[^\\w\\s]','',message)\n",
    "    message = re.sub('[0-9]+', '', message)\n",
    "    \n",
    "    nltk_stopword = nltk.corpus.stopwords.words('english')\n",
    "    message = ' '.join([item for item in message.split() if item not in nltk_stopword])\n",
    "    \n",
    "    message = message.lower()\n",
    "    lemmatizer = WordNetLemmatizer()\n",
    "    message = [lemmatizer.lemmatize(token) for token in message.split(\" \")]\n",
    "\n",
    "    message = [lemmatizer.lemmatize(token, \"v\") for token in message]\n",
    "    message = \" \".join(message)\n",
    "    \n",
    "    return message\n"
   ]
  },
  {
   "cell_type": "code",
   "execution_count": 13,
   "metadata": {
    "execution": {
     "iopub.execute_input": "2020-10-18T14:44:10.325266Z",
     "iopub.status.busy": "2020-10-18T14:44:10.324317Z",
     "iopub.status.idle": "2020-10-18T14:44:24.966908Z",
     "shell.execute_reply": "2020-10-18T14:44:24.966128Z"
    },
    "papermill": {
     "duration": 14.693473,
     "end_time": "2020-10-18T14:44:24.967073",
     "exception": false,
     "start_time": "2020-10-18T14:44:10.273600",
     "status": "completed"
    },
    "tags": []
   },
   "outputs": [],
   "source": [
    "train['message_clean']=train['message'].apply(clean)\n",
    "test['message_clean']=test['message'].apply(clean)"
   ]
  },
  {
   "cell_type": "code",
   "execution_count": 14,
   "metadata": {
    "execution": {
     "iopub.execute_input": "2020-10-18T14:44:25.233100Z",
     "iopub.status.busy": "2020-10-18T14:44:25.232214Z",
     "iopub.status.idle": "2020-10-18T14:44:25.256291Z",
     "shell.execute_reply": "2020-10-18T14:44:25.256920Z"
    },
    "papermill": {
     "duration": 0.245757,
     "end_time": "2020-10-18T14:44:25.257115",
     "exception": false,
     "start_time": "2020-10-18T14:44:25.011358",
     "status": "completed"
    },
    "tags": []
   },
   "outputs": [
    {
     "data": {
      "text/plain": [
       "-1    5000\n",
       " 1    5000\n",
       " 2    3640\n",
       " 0    2353\n",
       "Name: sentiment, dtype: int64"
      ]
     },
     "execution_count": 14,
     "metadata": {},
     "output_type": "execute_result"
    }
   ],
   "source": [
    "from sklearn.utils import resample\n",
    "\n",
    "train_pro = train[train.sentiment==1]\n",
    "train_news = train[train.sentiment==2]\n",
    "train_anti = train[train.sentiment==-1]\n",
    "train_neutral = train[train.sentiment==0]\n",
    "\n",
    "train_pro_downsample = resample(train_pro, \n",
    "                                 replace=False,    \n",
    "                                 n_samples=5000,  \n",
    "                                 random_state=42) \n",
    "\n",
    "train_anti_upsample = resample(train_anti, \n",
    "                                 replace=True,    \n",
    "                                 n_samples=5000,  \n",
    "                                 random_state=42)\n",
    "\n",
    "train_rebalance = pd.concat([train_pro_downsample,train_news,train_anti_upsample,train_neutral])\n",
    "train_rebalance.sentiment.value_counts()\n",
    "\n"
   ]
  },
  {
   "cell_type": "markdown",
   "metadata": {
    "papermill": {
     "duration": 0.042889,
     "end_time": "2020-10-18T14:44:25.344590",
     "exception": false,
     "start_time": "2020-10-18T14:44:25.301701",
     "status": "completed"
    },
    "tags": []
   },
   "source": [
    "#  Splitting x and y variables"
   ]
  },
  {
   "cell_type": "code",
   "execution_count": 15,
   "metadata": {
    "execution": {
     "iopub.execute_input": "2020-10-18T14:44:25.437402Z",
     "iopub.status.busy": "2020-10-18T14:44:25.436469Z",
     "iopub.status.idle": "2020-10-18T14:44:25.439879Z",
     "shell.execute_reply": "2020-10-18T14:44:25.439092Z"
    },
    "papermill": {
     "duration": 0.0521,
     "end_time": "2020-10-18T14:44:25.440017",
     "exception": false,
     "start_time": "2020-10-18T14:44:25.387917",
     "status": "completed"
    },
    "tags": []
   },
   "outputs": [],
   "source": [
    "y = train_rebalance['sentiment']\n",
    "X = train_rebalance['message_clean']"
   ]
  },
  {
   "cell_type": "markdown",
   "metadata": {
    "papermill": {
     "duration": 0.043132,
     "end_time": "2020-10-18T14:44:25.526482",
     "exception": false,
     "start_time": "2020-10-18T14:44:25.483350",
     "status": "completed"
    },
    "tags": []
   },
   "source": [
    "# Vectorizing Text"
   ]
  },
  {
   "cell_type": "code",
   "execution_count": 16,
   "metadata": {
    "execution": {
     "iopub.execute_input": "2020-10-18T14:44:25.669173Z",
     "iopub.status.busy": "2020-10-18T14:44:25.648306Z",
     "iopub.status.idle": "2020-10-18T14:44:26.622194Z",
     "shell.execute_reply": "2020-10-18T14:44:26.621235Z"
    },
    "papermill": {
     "duration": 1.052157,
     "end_time": "2020-10-18T14:44:26.622348",
     "exception": false,
     "start_time": "2020-10-18T14:44:25.570191",
     "status": "completed"
    },
    "tags": []
   },
   "outputs": [],
   "source": [
    "vectorizer = TfidfVectorizer(ngram_range=(1,2), min_df=2, stop_words=\"english\")\n",
    "X_vectorized = vectorizer.fit_transform(X)"
   ]
  },
  {
   "cell_type": "markdown",
   "metadata": {
    "papermill": {
     "duration": 0.047555,
     "end_time": "2020-10-18T14:44:26.713953",
     "exception": false,
     "start_time": "2020-10-18T14:44:26.666398",
     "status": "completed"
    },
    "tags": []
   },
   "source": [
    "# Split train data into train_val set"
   ]
  },
  {
   "cell_type": "code",
   "execution_count": 17,
   "metadata": {
    "execution": {
     "iopub.execute_input": "2020-10-18T14:44:26.809204Z",
     "iopub.status.busy": "2020-10-18T14:44:26.808283Z",
     "iopub.status.idle": "2020-10-18T14:44:26.830062Z",
     "shell.execute_reply": "2020-10-18T14:44:26.829340Z"
    },
    "papermill": {
     "duration": 0.071942,
     "end_time": "2020-10-18T14:44:26.830202",
     "exception": false,
     "start_time": "2020-10-18T14:44:26.758260",
     "status": "completed"
    },
    "tags": []
   },
   "outputs": [],
   "source": [
    "#X_train, X_val, y_train, y_val = train_test_split(X, y, test_size = 0.05, random_state = 42)\n",
    "X_train,X_val,y_train,y_val = train_test_split(X_vectorized,y,test_size=0.20,shuffle=True, stratify=y, random_state=42)"
   ]
  },
  {
   "cell_type": "code",
   "execution_count": 18,
   "metadata": {
    "execution": {
     "iopub.execute_input": "2020-10-18T14:44:26.928030Z",
     "iopub.status.busy": "2020-10-18T14:44:26.926881Z",
     "iopub.status.idle": "2020-10-18T14:44:26.930656Z",
     "shell.execute_reply": "2020-10-18T14:44:26.929847Z"
    },
    "papermill": {
     "duration": 0.056274,
     "end_time": "2020-10-18T14:44:26.930827",
     "exception": false,
     "start_time": "2020-10-18T14:44:26.874553",
     "status": "completed"
    },
    "tags": []
   },
   "outputs": [],
   "source": [
    "#List possible classifiers\n",
    "\n",
    "models = [\n",
    "               svm.SVC(probability=True),\n",
    "               tree.DecisionTreeClassifier(),\n",
    "               RandomForestClassifier(n_estimators = 10),\n",
    "               LogisticRegression(solver = \"liblinear\"),\n",
    "               GradientBoostingClassifier(),\n",
    "               xgboost.XGBClassifier()\n",
    "    ]"
   ]
  },
  {
   "cell_type": "code",
   "execution_count": 19,
   "metadata": {
    "execution": {
     "iopub.execute_input": "2020-10-18T14:44:27.032852Z",
     "iopub.status.busy": "2020-10-18T14:44:27.031620Z",
     "iopub.status.idle": "2020-10-18T14:49:09.534295Z",
     "shell.execute_reply": "2020-10-18T14:49:09.535604Z"
    },
    "papermill": {
     "duration": 282.559353,
     "end_time": "2020-10-18T14:49:09.536115",
     "exception": false,
     "start_time": "2020-10-18T14:44:26.976762",
     "status": "completed"
    },
    "tags": []
   },
   "outputs": [
    {
     "name": "stdout",
     "output_type": "stream",
     "text": [
      "SVC\n",
      "Accuracy : 0.8036886527039699\n",
      "              precision    recall  f1-score   support\n",
      "\n",
      "          -1       0.97      0.97      0.97      1000\n",
      "           0       0.76      0.38      0.51       471\n",
      "           1       0.70      0.82      0.76      1000\n",
      "           2       0.76      0.82      0.79       728\n",
      "\n",
      "    accuracy                           0.80      3199\n",
      "   macro avg       0.80      0.75      0.76      3199\n",
      "weighted avg       0.81      0.80      0.79      3199\n",
      "\n",
      "[[969   6  19   6]\n",
      " [ 16 179 219  57]\n",
      " [  6  46 823 125]\n",
      " [  8   5 115 600]]\n",
      "Time Taken : 197.12941002845764 seconds\n",
      "------------------------------------------------------------\n",
      "DecisionTreeClassifier\n",
      "Accuracy : 0.7099093466708346\n",
      "              precision    recall  f1-score   support\n",
      "\n",
      "          -1       0.90      0.97      0.94      1000\n",
      "           0       0.48      0.45      0.46       471\n",
      "           1       0.64      0.58      0.60      1000\n",
      "           2       0.66      0.70      0.68       728\n",
      "\n",
      "    accuracy                           0.71      3199\n",
      "   macro avg       0.67      0.67      0.67      3199\n",
      "weighted avg       0.70      0.71      0.70      3199\n",
      "\n",
      "[[972  10   6  12]\n",
      " [ 26 211 175  59]\n",
      " [ 47 190 576 187]\n",
      " [ 34  32 150 512]]\n",
      "Time Taken : 4.90029501914978 seconds\n",
      "------------------------------------------------------------\n",
      "RandomForestClassifier\n",
      "Accuracy : 0.745545482963426\n",
      "              precision    recall  f1-score   support\n",
      "\n",
      "          -1       0.92      0.97      0.95      1000\n",
      "           0       0.57      0.46      0.51       471\n",
      "           1       0.67      0.65      0.66      1000\n",
      "           2       0.69      0.75      0.72       728\n",
      "\n",
      "    accuracy                           0.75      3199\n",
      "   macro avg       0.71      0.71      0.71      3199\n",
      "weighted avg       0.74      0.75      0.74      3199\n",
      "\n",
      "[[970   6  19   5]\n",
      " [ 19 219 172  61]\n",
      " [ 30 136 651 183]\n",
      " [ 32  25 126 545]]\n",
      "Time Taken : 2.734199285507202 seconds\n",
      "------------------------------------------------------------\n",
      "LogisticRegression\n",
      "Accuracy : 0.7733666770865896\n",
      "              precision    recall  f1-score   support\n",
      "\n",
      "          -1       0.85      0.97      0.91      1000\n",
      "           0       0.76      0.32      0.46       471\n",
      "           1       0.73      0.75      0.74      1000\n",
      "           2       0.72      0.82      0.77       728\n",
      "\n",
      "    accuracy                           0.77      3199\n",
      "   macro avg       0.77      0.72      0.72      3199\n",
      "weighted avg       0.77      0.77      0.76      3199\n",
      "\n",
      "[[972   4  15   9]\n",
      " [ 86 153 162  70]\n",
      " [ 60  41 750 149]\n",
      " [ 24   3 102 599]]\n",
      "Time Taken : 0.483081579208374 seconds\n",
      "------------------------------------------------------------\n",
      "GradientBoostingClassifier\n",
      "Accuracy : 0.6830259456080024\n",
      "              precision    recall  f1-score   support\n",
      "\n",
      "          -1       0.77      0.85      0.81      1000\n",
      "           0       0.54      0.35      0.43       471\n",
      "           1       0.65      0.64      0.64      1000\n",
      "           2       0.65      0.72      0.69       728\n",
      "\n",
      "    accuracy                           0.68      3199\n",
      "   macro avg       0.66      0.64      0.64      3199\n",
      "weighted avg       0.67      0.68      0.67      3199\n",
      "\n",
      "[[852  41  63  44]\n",
      " [ 69 167 172  63]\n",
      " [ 96  93 639 172]\n",
      " [ 83   6 112 527]]\n",
      "Time Taken : 61.433895111083984 seconds\n",
      "------------------------------------------------------------\n",
      "XGBClassifier\n",
      "Accuracy : 0.7511722413254142\n",
      "              precision    recall  f1-score   support\n",
      "\n",
      "          -1       0.87      0.94      0.91      1000\n",
      "           0       0.60      0.43      0.50       471\n",
      "           1       0.69      0.69      0.69      1000\n",
      "           2       0.72      0.78      0.75       728\n",
      "\n",
      "    accuracy                           0.75      3199\n",
      "   macro avg       0.72      0.71      0.71      3199\n",
      "weighted avg       0.74      0.75      0.74      3199\n",
      "\n",
      "[[941  19  28  12]\n",
      " [ 43 202 173  53]\n",
      " [ 48 105 690 157]\n",
      " [ 45  11 102 570]]\n",
      "Time Taken : 15.805787324905396 seconds\n",
      "------------------------------------------------------------\n"
     ]
    }
   ],
   "source": [
    "for model in models:\n",
    "    t0 = time.time()\n",
    "    model.fit(X_train,y_train)\n",
    "    y_pred = model.predict(X_val)\n",
    "    score = accuracy_score(y_val,y_pred)\n",
    "    bin_clf_rep = classification_report(y_val,y_pred, zero_division=1)\n",
    "    name = str(model)\n",
    "    print(name[0:name.find(\"(\")])\n",
    "    print(\"Accuracy :\", score)\n",
    "    print(bin_clf_rep)\n",
    "    print(confusion_matrix(y_val,y_pred))\n",
    "    print(\"Time Taken :\", time.time()-t0, \"seconds\")\n",
    "    print(\"------------------------------------------------------------\")"
   ]
  },
  {
   "cell_type": "markdown",
   "metadata": {
    "papermill": {
     "duration": 0.056544,
     "end_time": "2020-10-18T14:49:09.649530",
     "exception": false,
     "start_time": "2020-10-18T14:49:09.592986",
     "status": "completed"
    },
    "tags": []
   },
   "source": [
    "# Train model and evaluate validation set"
   ]
  },
  {
   "cell_type": "code",
   "execution_count": 20,
   "metadata": {
    "execution": {
     "iopub.execute_input": "2020-10-18T14:49:09.759807Z",
     "iopub.status.busy": "2020-10-18T14:49:09.758829Z",
     "iopub.status.idle": "2020-10-18T14:52:29.224636Z",
     "shell.execute_reply": "2020-10-18T14:52:29.223499Z"
    },
    "papermill": {
     "duration": 199.521886,
     "end_time": "2020-10-18T14:52:29.224963",
     "exception": false,
     "start_time": "2020-10-18T14:49:09.703077",
     "status": "completed"
    },
    "tags": []
   },
   "outputs": [],
   "source": [
    "svc_clf = svm.SVC(probability=True)\n",
    "svc_clf.fit(X_train, y_train)\n",
    "svc_pred = svc_clf.predict(X_val)"
   ]
  },
  {
   "cell_type": "code",
   "execution_count": 21,
   "metadata": {
    "execution": {
     "iopub.execute_input": "2020-10-18T14:52:29.334257Z",
     "iopub.status.busy": "2020-10-18T14:52:29.332936Z",
     "iopub.status.idle": "2020-10-18T14:52:29.343906Z",
     "shell.execute_reply": "2020-10-18T14:52:29.343033Z"
    },
    "papermill": {
     "duration": 0.067581,
     "end_time": "2020-10-18T14:52:29.344051",
     "exception": false,
     "start_time": "2020-10-18T14:52:29.276470",
     "status": "completed"
    },
    "tags": []
   },
   "outputs": [
    {
     "data": {
      "text/plain": [
       "0.7559600540848235"
      ]
     },
     "execution_count": 21,
     "metadata": {},
     "output_type": "execute_result"
    }
   ],
   "source": [
    "f1_score(y_val, svc_pred, average = 'macro')"
   ]
  },
  {
   "cell_type": "markdown",
   "metadata": {
    "papermill": {
     "duration": 0.04728,
     "end_time": "2020-10-18T14:52:29.439139",
     "exception": false,
     "start_time": "2020-10-18T14:52:29.391859",
     "status": "completed"
    },
    "tags": []
   },
   "source": [
    "# Get test set ready"
   ]
  },
  {
   "cell_type": "code",
   "execution_count": 22,
   "metadata": {
    "execution": {
     "iopub.execute_input": "2020-10-18T14:52:29.576448Z",
     "iopub.status.busy": "2020-10-18T14:52:29.570642Z",
     "iopub.status.idle": "2020-10-18T14:52:30.054747Z",
     "shell.execute_reply": "2020-10-18T14:52:30.053996Z"
    },
    "papermill": {
     "duration": 0.567087,
     "end_time": "2020-10-18T14:52:30.054945",
     "exception": false,
     "start_time": "2020-10-18T14:52:29.487858",
     "status": "completed"
    },
    "tags": []
   },
   "outputs": [],
   "source": [
    "testx = test['message_clean']\n",
    "test_vect = vectorizer.transform(testx)"
   ]
  },
  {
   "cell_type": "markdown",
   "metadata": {
    "papermill": {
     "duration": 0.047468,
     "end_time": "2020-10-18T14:52:30.150395",
     "exception": false,
     "start_time": "2020-10-18T14:52:30.102927",
     "status": "completed"
    },
    "tags": []
   },
   "source": [
    "# Make predictions on the test set and adding a sentiment column to our original test df"
   ]
  },
  {
   "cell_type": "code",
   "execution_count": 23,
   "metadata": {
    "execution": {
     "iopub.execute_input": "2020-10-18T14:52:30.252936Z",
     "iopub.status.busy": "2020-10-18T14:52:30.252000Z",
     "iopub.status.idle": "2020-10-18T14:52:46.305345Z",
     "shell.execute_reply": "2020-10-18T14:52:46.304686Z"
    },
    "papermill": {
     "duration": 16.106756,
     "end_time": "2020-10-18T14:52:46.305498",
     "exception": false,
     "start_time": "2020-10-18T14:52:30.198742",
     "status": "completed"
    },
    "tags": []
   },
   "outputs": [],
   "source": [
    "y_pred = svc_clf.predict(test_vect)"
   ]
  },
  {
   "cell_type": "code",
   "execution_count": 24,
   "metadata": {
    "execution": {
     "iopub.execute_input": "2020-10-18T14:52:46.410912Z",
     "iopub.status.busy": "2020-10-18T14:52:46.409986Z",
     "iopub.status.idle": "2020-10-18T14:52:46.414312Z",
     "shell.execute_reply": "2020-10-18T14:52:46.413450Z"
    },
    "papermill": {
     "duration": 0.060802,
     "end_time": "2020-10-18T14:52:46.414465",
     "exception": false,
     "start_time": "2020-10-18T14:52:46.353663",
     "status": "completed"
    },
    "tags": []
   },
   "outputs": [],
   "source": [
    "test['sentiment'] = y_pred"
   ]
  },
  {
   "cell_type": "code",
   "execution_count": 25,
   "metadata": {
    "execution": {
     "iopub.execute_input": "2020-10-18T14:52:46.530430Z",
     "iopub.status.busy": "2020-10-18T14:52:46.529121Z",
     "iopub.status.idle": "2020-10-18T14:52:46.534170Z",
     "shell.execute_reply": "2020-10-18T14:52:46.533523Z"
    },
    "papermill": {
     "duration": 0.070871,
     "end_time": "2020-10-18T14:52:46.534317",
     "exception": false,
     "start_time": "2020-10-18T14:52:46.463446",
     "status": "completed"
    },
    "tags": []
   },
   "outputs": [
    {
     "data": {
      "text/html": [
       "<div>\n",
       "<style scoped>\n",
       "    .dataframe tbody tr th:only-of-type {\n",
       "        vertical-align: middle;\n",
       "    }\n",
       "\n",
       "    .dataframe tbody tr th {\n",
       "        vertical-align: top;\n",
       "    }\n",
       "\n",
       "    .dataframe thead th {\n",
       "        text-align: right;\n",
       "    }\n",
       "</style>\n",
       "<table border=\"1\" class=\"dataframe\">\n",
       "  <thead>\n",
       "    <tr style=\"text-align: right;\">\n",
       "      <th></th>\n",
       "      <th>message</th>\n",
       "      <th>tweetid</th>\n",
       "      <th>message_clean</th>\n",
       "      <th>sentiment</th>\n",
       "    </tr>\n",
       "  </thead>\n",
       "  <tbody>\n",
       "    <tr>\n",
       "      <th>0</th>\n",
       "      <td>Europe will now be looking to China to make su...</td>\n",
       "      <td>169760</td>\n",
       "      <td>europe look china make sure alone fight climat...</td>\n",
       "      <td>1</td>\n",
       "    </tr>\n",
       "    <tr>\n",
       "      <th>1</th>\n",
       "      <td>Combine this with the polling of staffers re c...</td>\n",
       "      <td>35326</td>\n",
       "      <td>combine poll staffer climate change woman righ...</td>\n",
       "      <td>1</td>\n",
       "    </tr>\n",
       "    <tr>\n",
       "      <th>2</th>\n",
       "      <td>The scary, unimpeachable evidence that climate...</td>\n",
       "      <td>224985</td>\n",
       "      <td>scary unimpeachable evidence climate change al...</td>\n",
       "      <td>1</td>\n",
       "    </tr>\n",
       "    <tr>\n",
       "      <th>3</th>\n",
       "      <td>@Karoli @morgfair @OsborneInk @dailykos \\nPuti...</td>\n",
       "      <td>476263</td>\n",
       "      <td>karoli morgfair osborneink dailykos putin get ...</td>\n",
       "      <td>1</td>\n",
       "    </tr>\n",
       "    <tr>\n",
       "      <th>4</th>\n",
       "      <td>RT @FakeWillMoore: 'Female orgasms cause globa...</td>\n",
       "      <td>872928</td>\n",
       "      <td>rt fakewillmoore female orgasm cause global wa...</td>\n",
       "      <td>0</td>\n",
       "    </tr>\n",
       "  </tbody>\n",
       "</table>\n",
       "</div>"
      ],
      "text/plain": [
       "                                             message  tweetid  \\\n",
       "0  Europe will now be looking to China to make su...   169760   \n",
       "1  Combine this with the polling of staffers re c...    35326   \n",
       "2  The scary, unimpeachable evidence that climate...   224985   \n",
       "3  @Karoli @morgfair @OsborneInk @dailykos \\nPuti...   476263   \n",
       "4  RT @FakeWillMoore: 'Female orgasms cause globa...   872928   \n",
       "\n",
       "                                       message_clean  sentiment  \n",
       "0  europe look china make sure alone fight climat...          1  \n",
       "1  combine poll staffer climate change woman righ...          1  \n",
       "2  scary unimpeachable evidence climate change al...          1  \n",
       "3  karoli morgfair osborneink dailykos putin get ...          1  \n",
       "4  rt fakewillmoore female orgasm cause global wa...          0  "
      ]
     },
     "execution_count": 25,
     "metadata": {},
     "output_type": "execute_result"
    }
   ],
   "source": [
    "test.head()"
   ]
  },
  {
   "cell_type": "markdown",
   "metadata": {
    "papermill": {
     "duration": 0.049227,
     "end_time": "2020-10-18T14:52:46.633443",
     "exception": false,
     "start_time": "2020-10-18T14:52:46.584216",
     "status": "completed"
    },
    "tags": []
   },
   "source": [
    "# Creating an output csv for submission"
   ]
  },
  {
   "cell_type": "code",
   "execution_count": 26,
   "metadata": {
    "execution": {
     "iopub.execute_input": "2020-10-18T14:52:46.741531Z",
     "iopub.status.busy": "2020-10-18T14:52:46.740631Z",
     "iopub.status.idle": "2020-10-18T14:52:47.061859Z",
     "shell.execute_reply": "2020-10-18T14:52:47.062527Z"
    },
    "papermill": {
     "duration": 0.379982,
     "end_time": "2020-10-18T14:52:47.062717",
     "exception": false,
     "start_time": "2020-10-18T14:52:46.682735",
     "status": "completed"
    },
    "tags": []
   },
   "outputs": [],
   "source": [
    "test[['tweetid', 'sentiment']].to_csv('testsubmission.csv', index = False)"
   ]
  }
 ],
 "metadata": {
  "kernelspec": {
   "display_name": "Python 3",
   "language": "python",
   "name": "python3"
  },
  "language_info": {
   "codemirror_mode": {
    "name": "ipython",
    "version": 3
   },
   "file_extension": ".py",
   "mimetype": "text/x-python",
   "name": "python",
   "nbconvert_exporter": "python",
   "pygments_lexer": "ipython3",
   "version": "3.7.6"
  },
  "papermill": {
   "duration": 540.969723,
   "end_time": "2020-10-18T14:52:47.223193",
   "environment_variables": {},
   "exception": null,
   "input_path": "__notebook__.ipynb",
   "output_path": "__notebook__.ipynb",
   "parameters": {},
   "start_time": "2020-10-18T14:43:46.253470",
   "version": "2.1.0"
  }
 },
 "nbformat": 4,
 "nbformat_minor": 4
}
